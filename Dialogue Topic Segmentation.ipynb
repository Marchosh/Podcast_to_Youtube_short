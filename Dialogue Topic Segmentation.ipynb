{
 "cells": [
  {
   "cell_type": "code",
   "execution_count": 3,
   "id": "c0c9741c",
   "metadata": {},
   "outputs": [
    {
     "name": "stderr",
     "output_type": "stream",
     "text": [
      "[nltk_data] Downloading package omw-1.4 to\n",
      "[nltk_data]     C:\\Users\\drago\\AppData\\Roaming\\nltk_data...\n"
     ]
    },
    {
     "name": "stdout",
     "output_type": "stream",
     "text": [
      "Subtopic 2:\n",
      "Person A: What's your favorite type of food?\n",
      "Person B: I love Italian pasta and pizza.\n",
      "Person B: That sounds interesting. Do you enjoy cooking at home?\n",
      "Person A: Yes, I often try out new recipes I find online.\n",
      "Person B: Cooking can be so much fun and rewarding.\n",
      "\n",
      "\n",
      "Subtopic 1:\n",
      "Person A: I'm more into spicy Asian dishes.\n",
      "\n",
      "\n"
     ]
    }
   ],
   "source": [
    "import nltk\n",
    "from nltk import word_tokenize\n",
    "from nltk.corpus import stopwords\n",
    "from nltk.stem import WordNetLemmatizer\n",
    "from gensim import corpora, models\n",
    "\n",
    "nltk.download('omw-1.4')\n",
    "\n",
    "\n",
    "def preprocess_text(text):\n",
    "    tokens = word_tokenize(text)\n",
    "    tokens = [word.lower() for word in tokens if word.isalpha()]\n",
    "    \n",
    "    lemmatizer = WordNetLemmatizer()\n",
    "    tokens = [lemmatizer.lemmatize(word) for word in tokens]\n",
    "    \n",
    "    stop_words = set(stopwords.words('english'))\n",
    "    tokens = [word for word in tokens if word not in stop_words]\n",
    "    \n",
    "    return tokens\n",
    "\n",
    "def cluster_dialogue(dialogue, num_topics=3):\n",
    "    texts = [preprocess_text(message) for message in dialogue]\n",
    "    dictionary = corpora.Dictionary(texts)\n",
    "    corpus = [dictionary.doc2bow(text) for text in texts]\n",
    "    \n",
    "    lda_model = models.LdaModel(corpus, num_topics=num_topics, id2word=dictionary)\n",
    "    \n",
    "    topic_assignments = [max(lda_model[text], key=lambda item: item[1])[0] for text in corpus]\n",
    "    topic_clusters = {}\n",
    "    \n",
    "    for i, topic_id in enumerate(topic_assignments):\n",
    "        if topic_id not in topic_clusters:\n",
    "            topic_clusters[topic_id] = []\n",
    "        topic_clusters[topic_id].append(dialogue[i])\n",
    "    \n",
    "    return topic_clusters\n",
    "\n",
    "# Example conversation\n",
    "conversation = [\n",
    "    \"Person A: What's your favorite type of food?\",\n",
    "    \"Person B: I love Italian pasta and pizza.\",\n",
    "    \"Person A: I'm more into spicy Asian dishes.\",\n",
    "    \"Person B: That sounds interesting. Do you enjoy cooking at home?\",\n",
    "    \"Person A: Yes, I often try out new recipes I find online.\",\n",
    "    \"Person B: Cooking can be so much fun and rewarding.\",\n",
    "]\n",
    "\n",
    "subtopic_clusters = cluster_dialogue(conversation, num_topics=2)\n",
    "for topic_id, messages in subtopic_clusters.items():\n",
    "    print(f\"Subtopic {topic_id + 1}:\")\n",
    "    for message in messages:\n",
    "        print(message)\n",
    "    print(\"\\n\")\n"
   ]
  },
  {
   "cell_type": "code",
   "execution_count": null,
   "id": "14cea83b",
   "metadata": {},
   "outputs": [],
   "source": []
  }
 ],
 "metadata": {
  "kernelspec": {
   "display_name": "Python 3 (ipykernel)",
   "language": "python",
   "name": "python3"
  },
  "language_info": {
   "codemirror_mode": {
    "name": "ipython",
    "version": 3
   },
   "file_extension": ".py",
   "mimetype": "text/x-python",
   "name": "python",
   "nbconvert_exporter": "python",
   "pygments_lexer": "ipython3",
   "version": "3.10.9"
  }
 },
 "nbformat": 4,
 "nbformat_minor": 5
}
